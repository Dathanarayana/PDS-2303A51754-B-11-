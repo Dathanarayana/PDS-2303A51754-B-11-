{
  "nbformat": 4,
  "nbformat_minor": 0,
  "metadata": {
    "colab": {
      "provenance": [],
      "include_colab_link": true
    },
    "kernelspec": {
      "name": "python3",
      "display_name": "Python 3"
    },
    "language_info": {
      "name": "python"
    }
  },
  "cells": [
    {
      "cell_type": "markdown",
      "metadata": {
        "id": "view-in-github",
        "colab_type": "text"
      },
      "source": [
        "<a href=\"https://colab.research.google.com/github/Dathanarayana/PDS-2303A51754-B-11-/blob/main/lab_3_14_aug.ipynb\" target=\"_parent\"><img src=\"https://colab.research.google.com/assets/colab-badge.svg\" alt=\"Open In Colab\"/></a>"
      ]
    },
    {
      "cell_type": "code",
      "execution_count": null,
      "metadata": {
        "colab": {
          "base_uri": "https://localhost:8080/"
        },
        "id": "kO9KHIxkzHIW",
        "outputId": "d57882e9-0205-4985-fb19-e009cc68282d"
      },
      "outputs": [
        {
          "output_type": "stream",
          "name": "stdout",
          "text": [
            "Data:\n",
            " [[78 85 92 88]\n",
            " [67 74 81 79]\n",
            " [90 95 89 84]\n",
            " [76 80 85 83]]\n",
            "Row-wise mean: [85.75 75.25 89.5  81.  ]\n",
            "Column-wise mean: [77.75 83.5  86.75 83.5 ]\n",
            "Standard Deviation: 6.9988838395847095\n",
            "Variance: 48.984375\n",
            "Global Max: 95 at index (np.int64(2), np.int64(1))\n",
            "Global Min: 67 at index (np.int64(1), np.int64(0))\n"
          ]
        }
      ],
      "source": [
        "import numpy as np\n",
        "\n",
        "data = np.array([[78, 85, 92, 88],\n",
        "\n",
        "                 [67, 74, 81, 79],\n",
        "\n",
        "                 [90, 95, 89, 84],\n",
        "\n",
        "                 [76, 80, 85, 83]])\n",
        "\n",
        "row_mean = np.mean(data, axis=1)\n",
        "\n",
        "col_mean = np.mean(data, axis=0)\n",
        "\n",
        "std_dev = np.std(data)\n",
        "\n",
        "variance = np.var(data)\n",
        "\n",
        "global_max = np.max(data)\n",
        "\n",
        "global_min = np.min(data)\n",
        "\n",
        "max_index = np.unravel_index(np.argmax(data), data.shape)\n",
        "\n",
        "min_index = np.unravel_index(np.argmin(data), data.shape)\n",
        "\n",
        "print(\"Data:\\n\", data)\n",
        "\n",
        "print(\"Row-wise mean:\", row_mean)\n",
        "\n",
        "print(\"Column-wise mean:\", col_mean)\n",
        "\n",
        "print(\"Standard Deviation:\", std_dev)\n",
        "\n",
        "print(\"Variance:\", variance)\n",
        "\n",
        "print(\"Global Max:\", global_max, \"at index\", max_index)\n",
        "\n",
        "print(\"Global Min:\", global_min, \"at index\", min_index)"
      ]
    },
    {
      "cell_type": "code",
      "source": [
        "import numpy as np\n",
        "\n",
        "image = np.random.randint(0, 256, (3, 3, 3), dtype=np.uint8)\n",
        "\n",
        "red_channel = image[:, :, 0]\n",
        "\n",
        "green_channel = image[:, :, 1]\n",
        "\n",
        "blue_channel = image[:, :, 2]\n",
        "\n",
        "avg_red = np.mean(red_channel)\n",
        "\n",
        "avg_green = np.mean(green_channel)\n",
        "\n",
        "avg_blue = np.mean(blue_channel)\n",
        "\n",
        "brightened = np.clip(image + 50, 0, 255)\n",
        "\n",
        "print(\"Original Image:\\n\", image)\n",
        "\n",
        "print(\"Red Channel:\\n\", red_channel)\n",
        "\n",
        "print(\"Green Channel:\\n\", green_channel)\n",
        "\n",
        "print(\"Blue Channel:\\n\", blue_channel)\n",
        "\n",
        "print(\"Average Red Intensity:\", avg_red)\n",
        "\n",
        "print(\"Average Green Intensity:\", avg_green)\n",
        "\n",
        "print(\"Average Blue Intensity:\", avg_blue)\n",
        "\n",
        "print(\"Brightened Image:\\n\", brightened)"
      ],
      "metadata": {
        "colab": {
          "base_uri": "https://localhost:8080/"
        },
        "id": "yvUFSuTN0pJ5",
        "outputId": "b1dc690c-00ce-4b62-b204-92b2cc762e55"
      },
      "execution_count": null,
      "outputs": [
        {
          "output_type": "stream",
          "name": "stdout",
          "text": [
            "Original Image:\n",
            " [[[249 130 103]\n",
            "  [ 14 241 221]\n",
            "  [214 111 235]]\n",
            "\n",
            " [[222 131   9]\n",
            "  [248  96   0]\n",
            "  [111 147  35]]\n",
            "\n",
            " [[ 58  81 234]\n",
            "  [185 132 186]\n",
            "  [ 95  71 208]]]\n",
            "Red Channel:\n",
            " [[249  14 214]\n",
            " [222 248 111]\n",
            " [ 58 185  95]]\n",
            "Green Channel:\n",
            " [[130 241 111]\n",
            " [131  96 147]\n",
            " [ 81 132  71]]\n",
            "Blue Channel:\n",
            " [[103 221 235]\n",
            " [  9   0  35]\n",
            " [234 186 208]]\n",
            "Average Red Intensity: 155.11111111111111\n",
            "Average Green Intensity: 126.66666666666667\n",
            "Average Blue Intensity: 136.77777777777777\n",
            "Brightened Image:\n",
            " [[[ 43 180 153]\n",
            "  [ 64  35  15]\n",
            "  [  8 161  29]]\n",
            "\n",
            " [[ 16 181  59]\n",
            "  [ 42 146  50]\n",
            "  [161 197  85]]\n",
            "\n",
            " [[108 131  28]\n",
            "  [235 182 236]\n",
            "  [145 121   2]]]\n"
          ]
        }
      ]
    }
  ]
}